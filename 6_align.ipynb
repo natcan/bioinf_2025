{
  "nbformat": 4,
  "nbformat_minor": 0,
  "metadata": {
    "colab": {
      "provenance": [],
      "mount_file_id": "1U44lQLllPFEwHK-1b-8IL8F_6yUVp_6J",
      "authorship_tag": "ABX9TyOPP4Michfu+gBEbtkBjFcE",
      "include_colab_link": true
    },
    "kernelspec": {
      "name": "python3",
      "display_name": "Python 3"
    },
    "language_info": {
      "name": "python"
    }
  },
  "cells": [
    {
      "cell_type": "markdown",
      "metadata": {
        "id": "view-in-github",
        "colab_type": "text"
      },
      "source": [
        "<a href=\"https://colab.research.google.com/github/natcan/bioinf_2025/blob/main/6_align.ipynb\" target=\"_parent\"><img src=\"https://colab.research.google.com/assets/colab-badge.svg\" alt=\"Open In Colab\"/></a>"
      ]
    },
    {
      "cell_type": "code",
      "execution_count": 19,
      "metadata": {
        "colab": {
          "base_uri": "https://localhost:8080/"
        },
        "id": "9p3Kkepb_Hvc",
        "outputId": "4a82a074-695f-4fda-a27b-08f23581ceb0"
      },
      "outputs": [
        {
          "output_type": "stream",
          "name": "stdout",
          "text": [
            "Requirement already satisfied: biopython in /usr/local/lib/python3.12/dist-packages (1.85)\n",
            "Requirement already satisfied: numpy in /usr/local/lib/python3.12/dist-packages (from biopython) (2.0.2)\n"
          ]
        }
      ],
      "source": [
        "\n",
        "# 1. Instalar Biopython\n",
        "!pip install biopython\n"
      ]
    },
    {
      "cell_type": "code",
      "source": [
        "\n",
        "# 2. Subir archivo FASTA usando ventana emergente\n",
        "from google.colab import files\n",
        "import os\n",
        "\n",
        "print(\"📁 Selecciona tu archivo FASTA (Pomacea_16S.fasta):\")\n",
        "uploaded = files.upload()\n",
        "\n",
        "# 3. Detectar nombre del archivo subido\n",
        "filename = list(uploaded.keys())[0]\n",
        "print(f\"✅ Archivo '{filename}' subido correctamente.\")\n"
      ],
      "metadata": {
        "colab": {
          "base_uri": "https://localhost:8080/",
          "height": 107
        },
        "id": "LwZY63atI7-X",
        "outputId": "b79fbee9-a3e5-4e5f-ab5a-51200448e9e4"
      },
      "execution_count": 20,
      "outputs": [
        {
          "output_type": "stream",
          "name": "stdout",
          "text": [
            "📁 Selecciona tu archivo FASTA (Pomacea_16S.fasta):\n"
          ]
        },
        {
          "output_type": "display_data",
          "data": {
            "text/plain": [
              "<IPython.core.display.HTML object>"
            ],
            "text/html": [
              "\n",
              "     <input type=\"file\" id=\"files-bfeee991-5710-44ab-80db-c3fd4415286e\" name=\"files[]\" multiple disabled\n",
              "        style=\"border:none\" />\n",
              "     <output id=\"result-bfeee991-5710-44ab-80db-c3fd4415286e\">\n",
              "      Upload widget is only available when the cell has been executed in the\n",
              "      current browser session. Please rerun this cell to enable.\n",
              "      </output>\n",
              "      <script>// Copyright 2017 Google LLC\n",
              "//\n",
              "// Licensed under the Apache License, Version 2.0 (the \"License\");\n",
              "// you may not use this file except in compliance with the License.\n",
              "// You may obtain a copy of the License at\n",
              "//\n",
              "//      http://www.apache.org/licenses/LICENSE-2.0\n",
              "//\n",
              "// Unless required by applicable law or agreed to in writing, software\n",
              "// distributed under the License is distributed on an \"AS IS\" BASIS,\n",
              "// WITHOUT WARRANTIES OR CONDITIONS OF ANY KIND, either express or implied.\n",
              "// See the License for the specific language governing permissions and\n",
              "// limitations under the License.\n",
              "\n",
              "/**\n",
              " * @fileoverview Helpers for google.colab Python module.\n",
              " */\n",
              "(function(scope) {\n",
              "function span(text, styleAttributes = {}) {\n",
              "  const element = document.createElement('span');\n",
              "  element.textContent = text;\n",
              "  for (const key of Object.keys(styleAttributes)) {\n",
              "    element.style[key] = styleAttributes[key];\n",
              "  }\n",
              "  return element;\n",
              "}\n",
              "\n",
              "// Max number of bytes which will be uploaded at a time.\n",
              "const MAX_PAYLOAD_SIZE = 100 * 1024;\n",
              "\n",
              "function _uploadFiles(inputId, outputId) {\n",
              "  const steps = uploadFilesStep(inputId, outputId);\n",
              "  const outputElement = document.getElementById(outputId);\n",
              "  // Cache steps on the outputElement to make it available for the next call\n",
              "  // to uploadFilesContinue from Python.\n",
              "  outputElement.steps = steps;\n",
              "\n",
              "  return _uploadFilesContinue(outputId);\n",
              "}\n",
              "\n",
              "// This is roughly an async generator (not supported in the browser yet),\n",
              "// where there are multiple asynchronous steps and the Python side is going\n",
              "// to poll for completion of each step.\n",
              "// This uses a Promise to block the python side on completion of each step,\n",
              "// then passes the result of the previous step as the input to the next step.\n",
              "function _uploadFilesContinue(outputId) {\n",
              "  const outputElement = document.getElementById(outputId);\n",
              "  const steps = outputElement.steps;\n",
              "\n",
              "  const next = steps.next(outputElement.lastPromiseValue);\n",
              "  return Promise.resolve(next.value.promise).then((value) => {\n",
              "    // Cache the last promise value to make it available to the next\n",
              "    // step of the generator.\n",
              "    outputElement.lastPromiseValue = value;\n",
              "    return next.value.response;\n",
              "  });\n",
              "}\n",
              "\n",
              "/**\n",
              " * Generator function which is called between each async step of the upload\n",
              " * process.\n",
              " * @param {string} inputId Element ID of the input file picker element.\n",
              " * @param {string} outputId Element ID of the output display.\n",
              " * @return {!Iterable<!Object>} Iterable of next steps.\n",
              " */\n",
              "function* uploadFilesStep(inputId, outputId) {\n",
              "  const inputElement = document.getElementById(inputId);\n",
              "  inputElement.disabled = false;\n",
              "\n",
              "  const outputElement = document.getElementById(outputId);\n",
              "  outputElement.innerHTML = '';\n",
              "\n",
              "  const pickedPromise = new Promise((resolve) => {\n",
              "    inputElement.addEventListener('change', (e) => {\n",
              "      resolve(e.target.files);\n",
              "    });\n",
              "  });\n",
              "\n",
              "  const cancel = document.createElement('button');\n",
              "  inputElement.parentElement.appendChild(cancel);\n",
              "  cancel.textContent = 'Cancel upload';\n",
              "  const cancelPromise = new Promise((resolve) => {\n",
              "    cancel.onclick = () => {\n",
              "      resolve(null);\n",
              "    };\n",
              "  });\n",
              "\n",
              "  // Wait for the user to pick the files.\n",
              "  const files = yield {\n",
              "    promise: Promise.race([pickedPromise, cancelPromise]),\n",
              "    response: {\n",
              "      action: 'starting',\n",
              "    }\n",
              "  };\n",
              "\n",
              "  cancel.remove();\n",
              "\n",
              "  // Disable the input element since further picks are not allowed.\n",
              "  inputElement.disabled = true;\n",
              "\n",
              "  if (!files) {\n",
              "    return {\n",
              "      response: {\n",
              "        action: 'complete',\n",
              "      }\n",
              "    };\n",
              "  }\n",
              "\n",
              "  for (const file of files) {\n",
              "    const li = document.createElement('li');\n",
              "    li.append(span(file.name, {fontWeight: 'bold'}));\n",
              "    li.append(span(\n",
              "        `(${file.type || 'n/a'}) - ${file.size} bytes, ` +\n",
              "        `last modified: ${\n",
              "            file.lastModifiedDate ? file.lastModifiedDate.toLocaleDateString() :\n",
              "                                    'n/a'} - `));\n",
              "    const percent = span('0% done');\n",
              "    li.appendChild(percent);\n",
              "\n",
              "    outputElement.appendChild(li);\n",
              "\n",
              "    const fileDataPromise = new Promise((resolve) => {\n",
              "      const reader = new FileReader();\n",
              "      reader.onload = (e) => {\n",
              "        resolve(e.target.result);\n",
              "      };\n",
              "      reader.readAsArrayBuffer(file);\n",
              "    });\n",
              "    // Wait for the data to be ready.\n",
              "    let fileData = yield {\n",
              "      promise: fileDataPromise,\n",
              "      response: {\n",
              "        action: 'continue',\n",
              "      }\n",
              "    };\n",
              "\n",
              "    // Use a chunked sending to avoid message size limits. See b/62115660.\n",
              "    let position = 0;\n",
              "    do {\n",
              "      const length = Math.min(fileData.byteLength - position, MAX_PAYLOAD_SIZE);\n",
              "      const chunk = new Uint8Array(fileData, position, length);\n",
              "      position += length;\n",
              "\n",
              "      const base64 = btoa(String.fromCharCode.apply(null, chunk));\n",
              "      yield {\n",
              "        response: {\n",
              "          action: 'append',\n",
              "          file: file.name,\n",
              "          data: base64,\n",
              "        },\n",
              "      };\n",
              "\n",
              "      let percentDone = fileData.byteLength === 0 ?\n",
              "          100 :\n",
              "          Math.round((position / fileData.byteLength) * 100);\n",
              "      percent.textContent = `${percentDone}% done`;\n",
              "\n",
              "    } while (position < fileData.byteLength);\n",
              "  }\n",
              "\n",
              "  // All done.\n",
              "  yield {\n",
              "    response: {\n",
              "      action: 'complete',\n",
              "    }\n",
              "  };\n",
              "}\n",
              "\n",
              "scope.google = scope.google || {};\n",
              "scope.google.colab = scope.google.colab || {};\n",
              "scope.google.colab._files = {\n",
              "  _uploadFiles,\n",
              "  _uploadFilesContinue,\n",
              "};\n",
              "})(self);\n",
              "</script> "
            ]
          },
          "metadata": {}
        },
        {
          "output_type": "stream",
          "name": "stdout",
          "text": [
            "Saving Anostomidae_COI.fasta to Anostomidae_COI.fasta\n",
            "✅ Archivo 'Anostomidae_COI.fasta' subido correctamente.\n"
          ]
        }
      ]
    },
    {
      "cell_type": "code",
      "source": [
        "\n",
        "# 4. Crear carpeta personalizada y guardar el archivo allí\n",
        "folder_path = \"/content/drive/MyDrive/Colab_Notebooks/bioinf/datasets\"\n",
        "os.makedirs(folder_path, exist_ok=True)\n",
        "\n",
        "file_path = os.path.join(folder_path, filename)\n",
        "\n",
        "with open(file_path, \"w\") as f:\n",
        "    f.write(uploaded[filename].decode(\"utf-8\"))\n",
        "\n",
        "print(f\"📂 Archivo guardado en: {file_path}\")\n"
      ],
      "metadata": {
        "colab": {
          "base_uri": "https://localhost:8080/"
        },
        "id": "IdmGAr1EI-W0",
        "outputId": "ecc8551c-54cc-4adf-a0d1-abf21791e6f8"
      },
      "execution_count": 21,
      "outputs": [
        {
          "output_type": "stream",
          "name": "stdout",
          "text": [
            "📂 Archivo guardado en: /content/drive/MyDrive/Colab_Notebooks/bioinf/datasets/Anostomidae_COI.fasta\n"
          ]
        }
      ]
    },
    {
      "cell_type": "code",
      "source": [
        "\n",
        "# 5. Leer y mostrar información de la secuencia\n",
        "from Bio import SeqIO\n",
        "\n",
        "\n",
        "# Reemplaza 'filename' con la ruta completa si el archivo está en una carpeta específica\n",
        "for record in SeqIO.parse(filename, \"fasta\"):\n",
        "    print(\"🧬 ID:\", record.id)\n",
        "    print(\"📌 Descripción:\", record.description)\n",
        "    print(\"📏 Longitud:\", len(record.seq))\n",
        "    print(\"🔠 Secuencia (primeros 100 nt):\", record.seq[:100])\n",
        "    print(\"-\" * 50)\n",
        "\n"
      ],
      "metadata": {
        "colab": {
          "base_uri": "https://localhost:8080/"
        },
        "id": "-qqyXXqh_ob4",
        "outputId": "45754500-3b1f-462f-b389-ae616896d82e"
      },
      "execution_count": 48,
      "outputs": [
        {
          "output_type": "stream",
          "name": "stdout",
          "text": [
            "🧬 ID: MK779605.1\n",
            "📌 Descripción: MK779605.1 Anostomoides laticeps cytochrome oxidase subunit 1 (COI) gene, partial cds; mitochondrial\n",
            "📏 Longitud: 658\n",
            "🔠 Secuencia (primeros 100 nt): CACCCTCTACCTGGTATTTGGTGCCTGAGCCGGAATAGTTGGAACAGCCCTTAGCCTCCTAATTCGAGCAGAGCTCAGTCAACCCGGATCCCTTCTAGGC\n",
            "--------------------------------------------------\n",
            "🧬 ID: MK506906.1\n",
            "📌 Descripción: MK506906.1 Schizodon fasciatus voucher L541 cytochrome oxidase subunit 1 (COI) gene, partial cds; mitochondrial\n",
            "📏 Longitud: 595\n",
            "🔠 Secuencia (primeros 100 nt): TCGAGCAGAGCTCAGCCAACCCGGAGCCCTTCTAGGCGATGATCAAATTTATAATGTTATCGTTACCGCACATGCTTTTGTAATAATTTTCTTTATAGTT\n",
            "--------------------------------------------------\n",
            "🧬 ID: MK506904.1\n",
            "📌 Descripción: MK506904.1 Schizodon intermedius voucher L1201 cytochrome oxidase subunit 1 (COI) gene, partial cds; mitochondrial\n",
            "📏 Longitud: 603\n",
            "🔠 Secuencia (primeros 100 nt): CTAAGCCTCCTAATTCGAGCAGAGCTCAGCCAACCCGGAGCCCTTCTAGGCGATGATCAAATTTATAATGTTATCGTTACCGCACATGCTTTTGTAATAA\n",
            "--------------------------------------------------\n",
            "🧬 ID: MK506900.1\n",
            "📌 Descripción: MK506900.1 Schizodon intermedius voucher L0372 cytochrome oxidase subunit 1 (COI) gene, partial cds; mitochondrial\n",
            "📏 Longitud: 644\n",
            "🔠 Secuencia (primeros 100 nt): TATTTGGTGCTTGAGCCGGAATAGATGGTACAGCCCTAAGCCTCCTAATTCGAGCAGAGCTCAGCCAACCCGGAGCCCTTCTAGGCGATGATCAAATTTA\n",
            "--------------------------------------------------\n",
            "🧬 ID: MK506893.1\n",
            "📌 Descripción: MK506893.1 Schizodon fasciatus voucher L0918 cytochrome oxidase subunit 1 (COI) gene, partial cds; mitochondrial\n",
            "📏 Longitud: 629\n",
            "🔠 Secuencia (primeros 100 nt): CCGGGATAGTTGGTACAGCCCTCAGCCTCCTAATTCGAGCAGAGCTCAGCCAACCCGGAGCCCTTCTAGGCGATGATCAAATTTATAATGTTATCGTTAC\n",
            "--------------------------------------------------\n",
            "🧬 ID: MK506890.1\n",
            "📌 Descripción: MK506890.1 Schizodon dissimilis voucher L260 cytochrome oxidase subunit 1 (COI) gene, partial cds; mitochondrial\n",
            "📏 Longitud: 658\n",
            "🔠 Secuencia (primeros 100 nt): CACCCTCTACTTAGTATTTGGTGCTTGAGCCGGAATAGTTGGAACAGCCCTCAGCCTCCTAATTCGAGCAGAGCTCAGCCAACCCGGAGCCCTTCTAGGC\n",
            "--------------------------------------------------\n",
            "🧬 ID: MK506881.1\n",
            "📌 Descripción: MK506881.1 Schizodon vittatus voucher L0733 cytochrome oxidase subunit 1 (COI) gene, partial cds; mitochondrial\n",
            "📏 Longitud: 637\n",
            "🔠 Secuencia (primeros 100 nt): TGCTTGAGCCGGAATAGTTGGTACAGCCCTCAGCCTCCTAATTCGAGCAGAGCTCAGCCAACCCGGAGCCCTTCTAGGCGATGATCAAATTTATAATGTT\n",
            "--------------------------------------------------\n",
            "🧬 ID: MK506875.1\n",
            "📌 Descripción: MK506875.1 Schizodon intermedius voucher L012 cytochrome oxidase subunit 1 (COI) gene, partial cds; mitochondrial\n",
            "📏 Longitud: 638\n",
            "🔠 Secuencia (primeros 100 nt): GTGCTTGAGCCGGAATAGTTGGTACAGCCCTAAGCCTCCTAATTCGAGCAGAGCTCAGCCAACCCGGAGCCCTTCTAGGCGATGATCAAATTTATAATGT\n",
            "--------------------------------------------------\n",
            "🧬 ID: MK506870.1\n",
            "📌 Descripción: MK506870.1 Schizodon borellii voucher L1177 cytochrome oxidase subunit 1 (COI) gene, partial cds; mitochondrial\n",
            "📏 Longitud: 603\n",
            "🔠 Secuencia (primeros 100 nt): CTAAGCCTCCTAATTCGAGCAGAGCTCAGCCAACCCGGAGCCCTTCTAGGCGATGATCAAATTTATAATGTTATCGTTACCGCACATGCTTTTGTAATAA\n",
            "--------------------------------------------------\n",
            "🧬 ID: MK506872.1\n",
            "📌 Descripción: MK506872.1 Schizodon vittatus voucher L207 cytochrome oxidase subunit 1 (COI) gene, partial cds; mitochondrial\n",
            "📏 Longitud: 658\n",
            "🔠 Secuencia (primeros 100 nt): CACCCTCTACTTAGTATTTGGTGCTTGAGCCGGAATAGTTGGTACAGCCCTCAGTCTCCTAATTCGAGCAGAGCTCAGCCAACCCGGAGCCCTTCTAGGC\n",
            "--------------------------------------------------\n"
          ]
        }
      ]
    },
    {
      "cell_type": "code",
      "source": [
        "!apt-get install clustalo"
      ],
      "metadata": {
        "colab": {
          "base_uri": "https://localhost:8080/"
        },
        "id": "LMFNwh7rKzau",
        "outputId": "7a82a409-39de-458d-bb71-d36e2e1f3bc6"
      },
      "execution_count": 49,
      "outputs": [
        {
          "output_type": "stream",
          "name": "stdout",
          "text": [
            "Reading package lists... Done\n",
            "Building dependency tree... Done\n",
            "Reading state information... Done\n",
            "clustalo is already the newest version (1.2.4-7).\n",
            "0 upgraded, 0 newly installed, 0 to remove and 38 not upgraded.\n"
          ]
        }
      ]
    },
    {
      "cell_type": "code",
      "source": [
        "!clustalo -i Pomacea_16S.fasta -o Pomacea_16S_alineado.fasta --force"
      ],
      "metadata": {
        "id": "rWRYkmYWJR62"
      },
      "execution_count": 50,
      "outputs": []
    },
    {
      "cell_type": "code",
      "source": [
        "folder_path = \"/content/drive/MyDrive/Colab_Notebooks/bioinf/datasets\"\n",
        "\n",
        "file_path = os.path.join(folder_path, filename)\n",
        "\n",
        "for record in SeqIO.parse(file_path, \"fasta\"):\n",
        "    print(record.id)\n",
        "    print(record.seq[:100])\n"
      ],
      "metadata": {
        "colab": {
          "base_uri": "https://localhost:8080/"
        },
        "id": "q9USY2bALU5l",
        "outputId": "fa40dfd9-3ac4-4d38-f1e4-1b28c8a0a924"
      },
      "execution_count": 51,
      "outputs": [
        {
          "output_type": "stream",
          "name": "stdout",
          "text": [
            "MK779605.1\n",
            "CACCCTCTACCTGGTATTTGGTGCCTGAGCCGGAATAGTTGGAACAGCCCTTAGCCTCCTAATTCGAGCAGAGCTCAGTCAACCCGGATCCCTTCTAGGC\n",
            "MK506906.1\n",
            "TCGAGCAGAGCTCAGCCAACCCGGAGCCCTTCTAGGCGATGATCAAATTTATAATGTTATCGTTACCGCACATGCTTTTGTAATAATTTTCTTTATAGTT\n",
            "MK506904.1\n",
            "CTAAGCCTCCTAATTCGAGCAGAGCTCAGCCAACCCGGAGCCCTTCTAGGCGATGATCAAATTTATAATGTTATCGTTACCGCACATGCTTTTGTAATAA\n",
            "MK506900.1\n",
            "TATTTGGTGCTTGAGCCGGAATAGATGGTACAGCCCTAAGCCTCCTAATTCGAGCAGAGCTCAGCCAACCCGGAGCCCTTCTAGGCGATGATCAAATTTA\n",
            "MK506893.1\n",
            "CCGGGATAGTTGGTACAGCCCTCAGCCTCCTAATTCGAGCAGAGCTCAGCCAACCCGGAGCCCTTCTAGGCGATGATCAAATTTATAATGTTATCGTTAC\n",
            "MK506890.1\n",
            "CACCCTCTACTTAGTATTTGGTGCTTGAGCCGGAATAGTTGGAACAGCCCTCAGCCTCCTAATTCGAGCAGAGCTCAGCCAACCCGGAGCCCTTCTAGGC\n",
            "MK506881.1\n",
            "TGCTTGAGCCGGAATAGTTGGTACAGCCCTCAGCCTCCTAATTCGAGCAGAGCTCAGCCAACCCGGAGCCCTTCTAGGCGATGATCAAATTTATAATGTT\n",
            "MK506875.1\n",
            "GTGCTTGAGCCGGAATAGTTGGTACAGCCCTAAGCCTCCTAATTCGAGCAGAGCTCAGCCAACCCGGAGCCCTTCTAGGCGATGATCAAATTTATAATGT\n",
            "MK506870.1\n",
            "CTAAGCCTCCTAATTCGAGCAGAGCTCAGCCAACCCGGAGCCCTTCTAGGCGATGATCAAATTTATAATGTTATCGTTACCGCACATGCTTTTGTAATAA\n",
            "MK506872.1\n",
            "CACCCTCTACTTAGTATTTGGTGCTTGAGCCGGAATAGTTGGTACAGCCCTCAGTCTCCTAATTCGAGCAGAGCTCAGCCAACCCGGAGCCCTTCTAGGC\n"
          ]
        }
      ]
    },
    {
      "cell_type": "code",
      "source": [
        "\n",
        "\n",
        "# Find first non-dash position in each sequence\n",
        "\n",
        "for record in SeqIO.parse(\"Pomacea_16S_alineado.fasta\", \"fasta\"):\n",
        "    seq_str = str(record.seq)\n",
        "    for i, c in enumerate(seq_str):\n",
        "        if c != '-':\n",
        "            print(f\"🧬 ID: {record.id} → Primer carácter no '-' en posición: {i}\")\n",
        "            break\n",
        "\n"
      ],
      "metadata": {
        "colab": {
          "base_uri": "https://localhost:8080/"
        },
        "id": "cvDOcF9iNgx5",
        "outputId": "38112885-e68a-4e6d-de2b-6e14c5b7ca5c"
      },
      "execution_count": 52,
      "outputs": [
        {
          "output_type": "stream",
          "name": "stdout",
          "text": [
            "🧬 ID: MH602347.1 → Primer carácter no '-' en posición: 57\n",
            "🧬 ID: MH602346.1 → Primer carácter no '-' en posición: 57\n",
            "🧬 ID: MH602344.1 → Primer carácter no '-' en posición: 57\n",
            "🧬 ID: MH602343.1 → Primer carácter no '-' en posición: 57\n",
            "🧬 ID: KM389472.1 → Primer carácter no '-' en posición: 0\n",
            "🧬 ID: EU274500.1 → Primer carácter no '-' en posición: 40\n",
            "🧬 ID: FJ710247.1 → Primer carácter no '-' en posición: 40\n",
            "🧬 ID: FJ710248.1 → Primer carácter no '-' en posición: 40\n",
            "🧬 ID: FJ710246.1 → Primer carácter no '-' en posición: 40\n",
            "🧬 ID: FJ710244.1 → Primer carácter no '-' en posición: 40\n",
            "🧬 ID: FJ710245.1 → Primer carácter no '-' en posición: 40\n",
            "🧬 ID: FJ710243.1 → Primer carácter no '-' en posición: 44\n"
          ]
        }
      ]
    },
    {
      "cell_type": "code",
      "source": [
        "from Bio.SeqRecord import SeqRecord\n",
        "\n",
        "# Set output file path\n",
        "output_file = os.path.join(folder_path, \"Pomaceae_align_trim_50.fasta\")\n",
        "\n",
        "\n",
        "# Define trimming position (after removing leading dashes)\n",
        "start_position = 57  # Puedes cambiar este valor\n",
        "\n",
        "# Process sequences\n",
        "trimmed_records = []\n",
        "for record in SeqIO.parse(\"Pomacea_16S_alineado.fasta\", \"fasta\"):\n",
        "    seq_str = str(record.seq)\n",
        "    trimmed_leading = seq_str.lstrip(\"-\")\n",
        "    final_trimmed = trimmed_leading[start_position:]\n",
        "\n",
        "    new_record = SeqRecord(\n",
        "        seq=final_trimmed,\n",
        "        id=record.id,\n",
        "        description=f\"Trimmed from position {start_position} after leading dashes\"\n",
        "    )\n",
        "    trimmed_records.append(new_record)\n",
        "\n",
        "# Save trimmed sequences\n",
        "SeqIO.write(trimmed_records, output_file, \"fasta\")\n",
        "print(f\"✅ Secuencias guardadas en: {output_file}\")\n"
      ],
      "metadata": {
        "colab": {
          "base_uri": "https://localhost:8080/"
        },
        "id": "hP95U5d6Mqg9",
        "outputId": "e6331826-89bb-4326-b7b8-aef1d27dedb7"
      },
      "execution_count": 53,
      "outputs": [
        {
          "output_type": "stream",
          "name": "stdout",
          "text": [
            "✅ Secuencias guardadas en: /content/drive/MyDrive/Colab_Notebooks/bioinf/datasets/Pomaceae_align_trim_50.fasta\n"
          ]
        }
      ]
    }
  ]
}