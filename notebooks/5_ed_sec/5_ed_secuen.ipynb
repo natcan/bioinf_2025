{
  "cells": [
    {
      "cell_type": "markdown",
      "metadata": {
        "id": "view-in-github",
        "colab_type": "text"
      },
      "source": [
        "<a href=\"https://colab.research.google.com/github/natcan/bioinf_2025/blob/main/notebooks/5_ed_sec/5_ed_secuen.ipynb\" target=\"_parent\"><img src=\"https://colab.research.google.com/assets/colab-badge.svg\" alt=\"Open In Colab\"/></a>"
      ]
    },
    {
      "cell_type": "code",
      "execution_count": null,
      "metadata": {
        "colab": {
          "base_uri": "https://localhost:8080/"
        },
        "id": "LkHIKOMM4-XJ",
        "outputId": "0d0b19d3-8119-444e-e3e2-189907b2b167"
      },
      "outputs": [
        {
          "output_type": "stream",
          "name": "stdout",
          "text": [
            "Requirement already satisfied: biopython in /usr/local/lib/python3.12/dist-packages (1.85)\n",
            "Requirement already satisfied: numpy in /usr/local/lib/python3.12/dist-packages (from biopython) (2.0.2)\n",
            "ID: M79328.1\n",
            "Descripción: M79328.1 Solanum tuberosum alpha-amylase (Amy23) mRNA, complete cds\n",
            "Longitud: 1962\n",
            "Primeros 101 nucleótidos: CGACAGTCGCCGTCGTCACCGCCACCGCACTATTCTCGACGCGTCGTCTATCTCCTCCACCCCACAGCCGTCAATTCCAAGCTTCCAATGAACCGTTGCCA\n"
          ]
        }
      ],
      "source": [
        "!cd /content/drive/MyDrive/Colab_Notebooks/gen_evol/datasets\n",
        "\n",
        "# Instalamos Biopython, una librería para trabajar con datos biológicos\n",
        "!pip install biopython\n",
        "\n",
        "# Importamos los módulos necesarios\n",
        "from Bio import Entrez, SeqIO\n",
        "\n",
        "# NCBI requiere que se proporcione un correo electrónico para usar Entrez\n",
        "Entrez.email = \"allasicanales@gmail.com\"  # Reemplaza con tu correo\n",
        "\n",
        "# Definimos el número de acceso de la secuencia que queremos recuperar\n",
        "accession = \"M79328\" # Solanum tuberosum alpha-amylase\n",
        "\n",
        "\n",
        "# Usamos Entrez para obtener la secuencia en formato FASTA\n",
        "handle = Entrez.efetch(db=\"nucleotide\", id=accession, rettype=\"fasta\", retmode=\"text\")\n",
        "record = SeqIO.read(handle, \"fasta\")\n",
        "handle.close()\n",
        "\n",
        "# Guardamos la secuencia en un archivo FASTA local\n",
        "SeqIO.write(record, \"/content/drive/MyDrive/Colab_Notebooks/gen_evol/datasets/mi_secuencia.fasta\", \"fasta\")\n",
        "\n",
        "# Mostramos información básica de la secuencia\n",
        "print(\"ID:\", record.id)\n",
        "print(\"Descripción:\", record.description)\n",
        "print(\"Longitud:\", len(record.seq))\n",
        "print(\"Primeros 101 nucleótidos:\", record.seq[:101])\n",
        "\n"
      ]
    },
    {
      "cell_type": "code",
      "execution_count": null,
      "metadata": {
        "colab": {
          "base_uri": "https://localhost:8080/"
        },
        "id": "mVUb7cYg6nK6",
        "outputId": "a823852c-7826-4609-acdb-3bfb1b51f1ef"
      },
      "outputs": [
        {
          "output_type": "stream",
          "name": "stdout",
          "text": [
            "Secuencia mutada (primeros 101 nt): CGACAGTCGCCGTCGTCACCGCCACCGCACTATTCTCGACGCGTCGTCTATCTCCTCCACCCCACAGCCGTCAATTCCAAGCTTCCAATGAACCGTTGCCA\n"
          ]
        }
      ],
      "source": [
        "# Importamos módulos para trabajar con secuencias\n",
        "from Bio import SeqIO\n",
        "from Bio.Seq import Seq\n",
        "\n",
        "\n",
        "# Leemos la secuencia guardada en el archivo FASTA\n",
        "registro = SeqIO.read(\"/content/drive/MyDrive/Colab_Notebooks/gen_evol/datasets/mi_secuencia.fasta\", \"fasta\")\n",
        "\n",
        "# Convertimos la secuencia (string) a una lista de caracteres para poder editarla\n",
        "seq_list = list(str(registro.seq))\n",
        "\n",
        "# Realizamos una mutación en la posición 100 (cambiamos el nucleótido por 'A')\n",
        "seq_list[100] = \"A\"\n",
        "\n",
        "# Reconstruimos la secuencia de caracteres a una cadena de texto (string) como objeto Seq\n",
        "secuencia_mutada = Seq(\"\".join(seq_list))\n",
        "\n",
        "# Mostramos los primeros 101 nucleótidos de la secuencia mutada\n",
        "print(\"Secuencia mutada (primeros 101 nt):\", secuencia_mutada[:101])\n"
      ]
    },
    {
      "cell_type": "code",
      "source": [
        "# Instalamos la librería para visualizar secuencias con anotaciones\n",
        "!pip install dna_features_viewer\n",
        "\n",
        "# Importamos los módulos necesarios\n",
        "from dna_features_viewer import GraphicFeature, GraphicRecord\n",
        "import matplotlib.pyplot as plt\n",
        "\n",
        "# Creamos anotaciones ficticias sobre la secuencia\n",
        "features = [\n",
        "    GraphicFeature(start=50, end=150, strand=+1, color=\"#ffd700\", label=\"Exón 1\"),\n",
        "    GraphicFeature(start=200, end=300, strand=-1, color=\"#ffcccc\", label=\"Promotor\"),\n",
        "    GraphicFeature(start=350, end=400, strand=+1, color=\"#cce5ff\", label=\"Sitio regulador\")\n",
        "]\n",
        "\n",
        "# Creamos el gráfico con las anotaciones\n",
        "record = GraphicRecord(sequence_length=len(secuencia_mutada), features=features)\n",
        "ax, _ = record.plot(figure_width=10)\n",
        "plt.show() # Mostramos el gráfico\n"
      ],
      "metadata": {
        "colab": {
          "base_uri": "https://localhost:8080/",
          "height": 456
        },
        "id": "-O2vBCit1uGi",
        "outputId": "747db407-3207-4322-a893-952864c59ea2"
      },
      "execution_count": null,
      "outputs": [
        {
          "output_type": "stream",
          "name": "stdout",
          "text": [
            "Requirement already satisfied: dna_features_viewer in /usr/local/lib/python3.12/dist-packages (3.1.5)\n",
            "Requirement already satisfied: matplotlib>=3 in /usr/local/lib/python3.12/dist-packages (from dna_features_viewer) (3.10.0)\n",
            "Requirement already satisfied: Biopython in /usr/local/lib/python3.12/dist-packages (from dna_features_viewer) (1.85)\n",
            "Requirement already satisfied: packaging in /usr/local/lib/python3.12/dist-packages (from dna_features_viewer) (25.0)\n",
            "Requirement already satisfied: contourpy>=1.0.1 in /usr/local/lib/python3.12/dist-packages (from matplotlib>=3->dna_features_viewer) (1.3.3)\n",
            "Requirement already satisfied: cycler>=0.10 in /usr/local/lib/python3.12/dist-packages (from matplotlib>=3->dna_features_viewer) (0.12.1)\n",
            "Requirement already satisfied: fonttools>=4.22.0 in /usr/local/lib/python3.12/dist-packages (from matplotlib>=3->dna_features_viewer) (4.60.1)\n",
            "Requirement already satisfied: kiwisolver>=1.3.1 in /usr/local/lib/python3.12/dist-packages (from matplotlib>=3->dna_features_viewer) (1.4.9)\n",
            "Requirement already satisfied: numpy>=1.23 in /usr/local/lib/python3.12/dist-packages (from matplotlib>=3->dna_features_viewer) (2.0.2)\n",
            "Requirement already satisfied: pillow>=8 in /usr/local/lib/python3.12/dist-packages (from matplotlib>=3->dna_features_viewer) (11.3.0)\n",
            "Requirement already satisfied: pyparsing>=2.3.1 in /usr/local/lib/python3.12/dist-packages (from matplotlib>=3->dna_features_viewer) (3.2.5)\n",
            "Requirement already satisfied: python-dateutil>=2.7 in /usr/local/lib/python3.12/dist-packages (from matplotlib>=3->dna_features_viewer) (2.9.0.post0)\n",
            "Requirement already satisfied: six>=1.5 in /usr/local/lib/python3.12/dist-packages (from python-dateutil>=2.7->matplotlib>=3->dna_features_viewer) (1.17.0)\n"
          ]
        },
        {
          "output_type": "display_data",
          "data": {
            "text/plain": [
              "<Figure size 1000x220 with 1 Axes>"
            ],
            "image/png": "[encoded data removed]"
          },
          "metadata": {}
        }
      ]
    },
    {
      "cell_type": "code",
      "source": [
        "# Importamos el módulo para crear un nuevo registro de secuencia\n",
        "from Bio.SeqRecord import SeqRecord\n",
        "\n",
        "# Creamos un nuevo objeto SeqRecord con la secuencia mutada\n",
        "registro_editado = SeqRecord(\n",
        "    secuencia_mutada,\n",
        "    id=\"Editado_NCBI\",\n",
        "    description=\"Secuencia con mutación en posición 100\"\n",
        ")\n",
        "\n",
        "# Guardamos la secuencia editada en un nuevo archivo FASTA\n",
        "with open(\"/content/drive/MyDrive/Colab_Notebooks/gen_evol/output/mi_secuencia_editada.fasta\", \"w\") as output_handle:\n",
        "    SeqIO.write(registro_editado, output_handle, \"fasta\")\n",
        "\n",
        "# Confirmamos que el archivo fue guardado\n",
        "print(\"Secuencia editada guardada como '/content/drive/MyDrive/Colab_Notebooks/gen_evol/output/mi_secuencia_editada.fasta'\")\n"
      ],
      "metadata": {
        "colab": {
          "base_uri": "https://localhost:8080/"
        },
        "id": "5UuRW-sx1xkj",
        "outputId": "c668369d-913a-47c0-ff0f-b0d389ac03f5"
      },
      "execution_count": null,
      "outputs": [
        {
          "output_type": "stream",
          "name": "stdout",
          "text": [
            "Secuencia editada guardada como '/content/drive/MyDrive/Colab_Notebooks/gen_evol/output/mi_secuencia_editada.fasta'\n"
          ]
        }
      ]
    }
  ],
  "metadata": {
    "colab": {
      "provenance": [],
      "mount_file_id": "1cDMqMIXj6Tx81XyGG2khtlsqjOWq8a5J",
      "authorship_tag": "ABX9TyMfQof0JS1CDejsYYJYHov/",
      "include_colab_link": true
    },
    "kernelspec": {
      "display_name": "Python 3",
      "name": "python3"
    },
    "language_info": {
      "name": "python"
    }
  },
  "nbformat": 4,
  "nbformat_minor": 0
}