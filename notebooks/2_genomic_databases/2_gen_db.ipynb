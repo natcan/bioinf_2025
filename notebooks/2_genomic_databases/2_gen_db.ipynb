{
  "nbformat": 4,
  "nbformat_minor": 0,
  "metadata": {
    "colab": {
      "provenance": [],
      "authorship_tag": "ABX9TyM1kGcwT6oQJvSonGfgBxfR",
      "include_colab_link": true
    },
    "kernelspec": {
      "name": "python3",
      "display_name": "Python 3"
    },
    "language_info": {
      "name": "python"
    }
  },
  "cells": [
    {
      "cell_type": "markdown",
      "metadata": {
        "id": "view-in-github",
        "colab_type": "text"
      },
      "source": [
        "<a href=\"https://colab.research.google.com/github/natcan/bioinf_2025/blob/main/notebooks/2_genomic_databases/2_gen_db.ipynb\" target=\"_parent\"><img src=\"https://colab.research.google.com/assets/colab-badge.svg\" alt=\"Open In Colab\"/></a>"
      ]
    },
    {
      "cell_type": "code",
      "execution_count": 11,
      "metadata": {
        "colab": {
          "base_uri": "https://localhost:8080/"
        },
        "id": "Tbt05WwXlJs5",
        "outputId": "4fcbcd98-6dee-4369-f711-69e73fbebb07"
      },
      "outputs": [
        {
          "output_type": "stream",
          "name": "stdout",
          "text": [
            "Requirement already satisfied: biopython in /usr/local/lib/python3.12/dist-packages (1.85)\n",
            "Requirement already satisfied: numpy in /usr/local/lib/python3.12/dist-packages (from biopython) (2.0.2)\n"
          ]
        }
      ],
      "source": [
        "# 📘 Instalación de Biopython\n",
        "!pip install biopython\n",
        "\n",
        "# 📚 Importar librerías necesarias\n",
        "from Bio import Entrez, SeqIO\n",
        "import matplotlib.pyplot as plt\n",
        "\n",
        "# 📧 Configurar tu correo electrónico (requerido por NCBI)\n",
        "Entrez.email = \"ejemplo@unmsm.edu.pe\"  # Reemplaza con tu correo\n",
        "\n"
      ]
    },
    {
      "cell_type": "code",
      "source": [
        "# 🔍 Paso 1: Obtener la secuencia del gen Amy23 desde NCBI\n",
        "# M79328 es el ID RefSeq del ARN mensajero de Amy23\n",
        "handle = Entrez.efetch(db=\"nucleotide\", id=\"M79328\", rettype=\"fasta\", retmode=\"text\")\n",
        "record = SeqIO.read(handle, \"fasta\")\n",
        "handle.close()\n",
        "\n",
        "# 💾 Paso 2: Guardar la secuencia en formato FASTA\n",
        "with open(\"Amy23_sequence.fasta\", \"w\") as output_handle:\n",
        "    SeqIO.write(record, output_handle, \"fasta\")\n",
        "\n",
        "# 📂 Paso 3: Leer el archivo FASTA\n",
        "parsed_record = SeqIO.read(\"Amy23_sequence.fasta\", \"fasta\")\n",
        "sequence = parsed_record.seq\n"
      ],
      "metadata": {
        "id": "7mwb35dnl3gO"
      },
      "execution_count": 12,
      "outputs": []
    },
    {
      "cell_type": "code",
      "source": [
        "# 📊 Paso 4: Calcular estadísticas básicas\n",
        "sequence_length = len(sequence)\n",
        "gc_content = 100 * float(sequence.count(\"G\") + sequence.count(\"C\")) / sequence_length\n",
        "\n",
        "# 🖨️ Paso 5: Mostrar estadísticas\n",
        "print(f\"🧬 ID de la secuencia: {parsed_record.id}\")\n",
        "print(f\"📏 Longitud de la secuencia: {sequence_length} pares de bases\")\n",
        "print(f\"🧪 Contenido GC: {gc_content:.2f}%\")\n",
        "\n",
        "# 📈 Paso 6: Graficar el contenido GC\n",
        "plt.figure(figsize=(6, 4))\n",
        "plt.bar([\"Contenido GC\"], [gc_content], color=\"green\")\n",
        "plt.ylabel(\"Porcentaje\")\n",
        "plt.title(\"🧬 Contenido GC del gen Amy23\")\n",
        "plt.ylim(0, 100)\n",
        "plt.grid(True)\n",
        "plt.tight_layout()\n",
        "plt.show()"
      ],
      "metadata": {
        "colab": {
          "base_uri": "https://localhost:8080/",
          "height": 494
        },
        "id": "Y_ZT0myjl8tQ",
        "outputId": "63b9c093-280c-4d52-9057-1ef159b5f32e"
      },
      "execution_count": 13,
      "outputs": [
        {
          "output_type": "stream",
          "name": "stdout",
          "text": [
            "🧬 ID de la secuencia: M79328.1\n",
            "📏 Longitud de la secuencia: 1962 pares de bases\n",
            "🧪 Contenido GC: 42.05%\n"
          ]
        },
        {
          "output_type": "stream",
          "name": "stderr",
          "text": [
            "/tmp/ipython-input-4060929839.py:17: UserWarning: Glyph 129516 (\\N{DNA DOUBLE HELIX}) missing from font(s) DejaVu Sans.\n",
            "  plt.tight_layout()\n"
          ]
        },
        {
          "output_type": "display_data",
          "data": {
            "text/plain": [
              "<Figure size 600x400 with 1 Axes>"
            ],
            "image/png": "[encoded data removed]"
          },
          "metadata": {}
        }
      ]
    }
  ]
}